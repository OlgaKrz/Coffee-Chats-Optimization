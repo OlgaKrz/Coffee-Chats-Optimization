{
 "cells": [
  {
   "cell_type": "markdown",
   "id": "7ccb923b-97b1-48ff-bfc8-7b8a28182192",
   "metadata": {},
   "source": [
    "## Optimization Formulation\n",
    "\n",
    "**Objective function**\n",
    "\n",
    "I kind of lied... the code is not optimizing the assignment because we are not really minimizing or maximizing for anything; we are just aiming for an assignment that respects a few constraints. So, in the search of that feasible solution, our objective function is just a constant value (decorative for the model to run properly and to assign values to the decision variable). The rationale behind the constraints listed below is maximizing the impact of the coffee chats, i.e.: motivate people to socialize with colleagues that they wouldn't otherwise (e.g.: seniors with juniors, employees in different cities, etc.).\n",
    "\n",
    "\n",
    "**Problem Data**\n",
    "\n",
    "- $P$ is a binary 1D vector (nx1). $P_{i}$ takes the value of 1 if person i is a partner, 0 otherwise\n",
    "- $B$ is a binary 1D vector (nx1). $B_{i}$ takes the value of 1 if person i is a Level 9 or 10 based in Mordor (fictional location that represents a common city in which E2E employees are based and interact often with each other), 0 otherwise\n",
    "- $M$ is a binary 1D vector (nx1). $M_{i}$ takes the value of 1 if person i is an MIT MBAn alumnus / alumna, 0 otherwise\n",
    "- $R$ is a binary 2D vector (nxn). $R_{ij}$ takes the value of 1 if person i and j have a project overlap, 0 otherwise\n",
    "- $L$ is a binary 2D vector (nxn). $L_{ij}$ takes the value of 1 if person i and j are a people lead-mentee pair, buddies, very close contacts (e.g.: family relationship or close friendship) or have been a past coffee chat pair, 0 otherwise\n",
    "\n",
    "**Decision Variable**\n",
    "\n",
    "- $x_{ij}$ is a binary variable that takes the value of 1 when person i is matched with person j, 0 otherwise\n",
    "\n",
    "**Constraints** \n",
    "\n",
    "1. Every person is paired to exactly one other person\n",
    "2. The order of the paired people does not matter\n",
    "3. Each pair has at most one partner\n",
    "4. Each pair has at most one person that is level 9 / 10 and is based in Mordor\n",
    "5. Each pair has at most one person that is an MIT MBAn\n",
    "6. People with a project overlap are not paired up\n",
    "7. People that are a people lead - mentee pair, buddies, close contacts or have been paired in the past are not paired up\n",
    "8. The decision variable is a binary variable\n",
    "\n",
    "$\n",
    "\\begin{equation}\n",
    "\\begin{aligned}\n",
    "\\min_{x}& \\sum_{i=1}^{n}{\\sum_{j=1}^{n}{x_{ij}}}\\\\\n",
    "\\textrm{s.t.}& \\sum_{j=1}^{n}{x_{ij}} = 1 &&\\forall i \\in \\{1,...,n\\} &&&(1)\\\\\n",
    "& x_{ij} = x_{ji}               &&\\forall i,j \\in \\{1,...,n\\} &&&(2)\\\\\n",
    "& x_{ij} + P_{i} + P_{j} \\leq 2 &&\\forall i,j \\in \\{1,...,n\\} &&&(3)\\\\\n",
    "& x_{ij} + B_{i} + B_{j} \\leq 2 &&\\forall i,j \\in \\{1,...,n\\} &&&(4)\\\\\n",
    "& x_{ij} + M_{i} + M_{j} \\leq 2 &&\\forall i,j \\in \\{1,...,n\\} &&&(5)\\\\\n",
    "& x_{ij} + R_{ij}        \\leq 1 &&\\forall i,j \\in \\{1,...,n\\} &&&(6)\\\\\n",
    "& x_{ij} + L_{ij}        \\leq 1 &&\\forall i,j \\in \\{1,...,n\\} &&&(7)\\\\\n",
    "& x_{ij} \\in \\{0,1\\}   &&\\forall i,j \\in \\{1,...,n\\} &&&(8)\\\\\n",
    "\\end{aligned}\n",
    "\\end{equation}\n",
    "$\n"
   ]
  }
 ],
 "metadata": {
  "kernelspec": {
   "display_name": "Python 3 (ipykernel)",
   "language": "python",
   "name": "python3"
  },
  "language_info": {
   "codemirror_mode": {
    "name": "ipython",
    "version": 3
   },
   "file_extension": ".py",
   "mimetype": "text/x-python",
   "name": "python",
   "nbconvert_exporter": "python",
   "pygments_lexer": "ipython3",
   "version": "3.9.5"
  }
 },
 "nbformat": 4,
 "nbformat_minor": 5
}
