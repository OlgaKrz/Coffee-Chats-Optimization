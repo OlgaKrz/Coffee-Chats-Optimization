{
 "cells": [
  {
   "cell_type": "code",
   "execution_count": 1,
   "id": "7f371f06-4861-4cec-a5d3-4059b6877652",
   "metadata": {
    "tags": []
   },
   "outputs": [],
   "source": [
    "import pandas as pd\n",
    "import numpy as np\n",
    "import warnings\n",
    "warnings.filterwarnings(\"ignore\")\n",
    "import funcs\n",
    "import tests\n",
    "pd.set_option('display.max_columns', None)\n",
    "\n",
    "################################################# MANUAL INPUT #######################################################\n",
    "# Add at the end of the list any names that should be temporarily removed from the pairings \n",
    "## (e.g.: long-term travel, parental leave, etc.) as well as the mentees affected by the removal + their new mentors \n",
    "eids_remove_temp = []#['mickey.mouse']\n",
    "mentees_impacted = []#['minnie.mouse', 'donald.duck']\n",
    "new_mentors      = []#['daisy.duck', 'goofy.goof']\n",
    "\n",
    "roster_file_path             = 'Roster Files/'\n",
    "roster_generic_filename      = 'Movie Roster after %s 2023 Optimization.xlsx'\n",
    "\n",
    "final_pairs_file_path        = 'Final Assignments/'\n",
    "final_pairs_generic_filename = '%s. Coffee chat pairs - %s.xlsx'\n",
    "\n",
    "###################################### READ INPUT & PREPARE OUTPUT FILES ##############################################\n",
    "roster_original                             = funcs.read_roster_input(roster_file_path, roster_generic_filename)\n",
    "roster_output_file, final_pairs_output_file = funcs.determine_output_files(roster_original, \n",
    "                                                                     roster_file_path, roster_generic_filename,\n",
    "                                                                     final_pairs_file_path, final_pairs_generic_filename)\n",
    "\n",
    "############################################### PREPROCESSING ########################################################\n",
    "roster                            = funcs.temp_updates(roster_original, eids_remove_temp, mentees_impacted, new_mentors)\n",
    "roster, close_contact_columns     = funcs.add_temp_columns_to_roster(roster)\n",
    "roster, double_paired, odd_number = funcs.odd_number_handling(roster)\n",
    "\n",
    "# ########################################### RUN MODEL & TESTS ########################################################\n",
    "roster, people_list, person_to_index, P, B, M, R, L = funcs.prepare_optim_parameters(roster, close_contact_columns)\n",
    "final_pairs_list                                    = funcs.run_optim_model(people_list, person_to_index, P, B, M, R, L)\n",
    "\n",
    "pairs_per_person, final_pairs_df = tests.check_double_pair(final_pairs_list, double_paired)\n",
    "tests.check_all_paired(people_list, pairs_per_person, odd_number)\n",
    "\n",
    "############################################## SAVE OUTPUT ##########################################################\n",
    "funcs.save_new_pairs_to_file(final_pairs_df, roster, final_pairs_output_file)\n",
    "funcs.update_roster_with_new_pairs(roster_original, final_pairs_list, odd_number, roster_output_file, eids_remove_temp)"
   ]
  }
 ],
 "metadata": {
  "kernelspec": {
   "display_name": "Python 3 (ipykernel)",
   "language": "python",
   "name": "python3"
  },
  "language_info": {
   "codemirror_mode": {
    "name": "ipython",
    "version": 3
   },
   "file_extension": ".py",
   "mimetype": "text/x-python",
   "name": "python",
   "nbconvert_exporter": "python",
   "pygments_lexer": "ipython3",
   "version": "3.9.5"
  },
  "toc-autonumbering": false,
  "toc-showtags": false
 },
 "nbformat": 4,
 "nbformat_minor": 5
}
